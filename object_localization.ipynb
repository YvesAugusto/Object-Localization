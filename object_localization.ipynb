{
  "nbformat": 4,
  "nbformat_minor": 0,
  "metadata": {
    "colab": {
      "name": "object_localization.ipynb",
      "provenance": [],
      "mount_file_id": "1a2cH4SrXg226GkwZ9fMiCw1IsMkGFji9",
      "authorship_tag": "ABX9TyNZ8GOO78+vH9x/xoF1iJCS",
      "include_colab_link": true
    },
    "kernelspec": {
      "name": "python3",
      "display_name": "Python 3"
    },
    "accelerator": "GPU"
  },
  "cells": [
    {
      "cell_type": "markdown",
      "metadata": {
        "id": "view-in-github",
        "colab_type": "text"
      },
      "source": [
        "<a href=\"https://colab.research.google.com/github/YvesAugusto/Object-Localization/blob/main/object_localization.ipynb\" target=\"_parent\"><img src=\"https://colab.research.google.com/assets/colab-badge.svg\" alt=\"Open In Colab\"/></a>"
      ]
    },
    {
      "cell_type": "code",
      "metadata": {
        "id": "W4k9kP-VRQS0"
      },
      "source": [
        "from tensorflow.keras.applications import VGG16\n",
        "from tensorflow.keras.preprocessing import image\n",
        "import numpy as np\n",
        "from matplotlib import pyplot as plt\n",
        "from tensorflow.keras.layers import Flatten, Dense\n",
        "from tensorflow.keras.models import Model\n",
        "from tensorflow.keras.optimizers import Adam, SGD\n",
        "from skimage.transform import resize\n",
        "from matplotlib.patches import Rectangle"
      ],
      "execution_count": 1,
      "outputs": []
    },
    {
      "cell_type": "code",
      "metadata": {
        "id": "nsQEpb8LQKCw"
      },
      "source": [
        "def base_model(img_dim):\n",
        "  vgg = VGG16(\n",
        "    input_shape=[img_dim, img_dim, 3],\n",
        "    include_top=False,\n",
        "    weights='imagenet')\n",
        "  x = Flatten()(vgg.output)\n",
        "  x = Dense(4, activation='sigmoid')(x)\n",
        "  model = Model(vgg.input, x)\n",
        "  model.compile(loss='binary_crossentropy', optimizer=Adam(lr=0.0001))\n",
        "  return model"
      ],
      "execution_count": 2,
      "outputs": []
    },
    {
      "cell_type": "code",
      "metadata": {
        "id": "_euZJVKKrCK4"
      },
      "source": [
        "IMG_SIZE = 200\n",
        "new_height = 200\n",
        "new_width = 200\n",
        "from imageio import imread\n",
        "img = imread('./drive/My Drive/bar_simpson.png')\n",
        "\n",
        "back_ground = []\n",
        "ra_fild12 = np.array(image.load_img('./drive/My Drive/ra_fild.png'))\n",
        "ra_fild12 = resize(\n",
        "            ra_fild12,\n",
        "            (new_height, new_width),\n",
        "            preserve_range=True).astype(np.uint8)\n",
        "back_ground.append(ra_fild12)\n",
        "lhz_dun = np.array(image.load_img('./drive/My Drive/lhz_dun.png'))\n",
        "lhz_dun = resize(\n",
        "            lhz_dun,\n",
        "            (new_height, new_width),\n",
        "            preserve_range=True).astype(np.uint8)\n",
        "back_ground.append(lhz_dun)\n",
        "orc_dun = np.array(image.load_img('./drive/My Drive/orc_dun.jpg'))\n",
        "orc_dun = resize(\n",
        "            orc_dun,\n",
        "            (new_height, new_width),\n",
        "            preserve_range=True).astype(np.uint8)\n",
        "back_ground.append(orc_dun)\n",
        "rachel_san = np.array(image.load_img('./drive/My Drive/rachel_san.jpeg'))\n",
        "rachel_san = resize(\n",
        "            rachel_san,\n",
        "            (new_height, new_width),\n",
        "            preserve_range=True).astype(np.uint8)\n",
        "back_ground.append(rachel_san)\n",
        "airplane = np.array(image.load_img('./drive/My Drive/airplane.jpeg'))\n",
        "airplane = resize(\n",
        "            airplane,\n",
        "            (new_height, new_width),\n",
        "            preserve_range=True).astype(np.uint8)\n",
        "back_ground.append(airplane)"
      ],
      "execution_count": 6,
      "outputs": []
    },
    {
      "cell_type": "code",
      "metadata": {
        "id": "rwywcgIXSLDe"
      },
      "source": [
        "img = np.array(img)\n",
        "height, width, _ = img.shape\n",
        "\n",
        "def train_generator(batch_size=64):\n",
        "  while True:\n",
        "    \n",
        "    for _ in range(50):\n",
        "      x_vec = np.arange(len(back_ground))\n",
        "      X=[]\n",
        "      for i in range(batch_size):\n",
        "        np.random.shuffle(x_vec)\n",
        "        index = x_vec[0]\n",
        "        X.append(np.array(back_ground[index]))\n",
        "      X = np.array(X)\n",
        "      # X = np.zeros((batch_size, IMG_SIZE, IMG_SIZE, 3))\n",
        "      Y = np.zeros((batch_size, 4))\n",
        "      for i in range(batch_size):\n",
        "        scale_vector = np.arange(0.125, 0.275, 0.05)\n",
        "        np.random.shuffle(scale_vector)\n",
        "        scale = scale_vector[0]\n",
        "        new_height = int(height * scale)\n",
        "        new_width = int(width * scale)\n",
        "        obj = resize(\n",
        "            img,\n",
        "            (new_height, new_width),\n",
        "            preserve_range=True).astype(np.uint8)\n",
        "        row0 = np.random.randint(IMG_SIZE - new_height)\n",
        "        col0 = np.random.randint(IMG_SIZE - new_width)\n",
        "        row1 = row0 + new_height\n",
        "        col1 = col0 + new_width\n",
        "        mask = (obj[:,:,3] == 0)\n",
        "        windows = X[i,row0:row1,col0:col1,:]\n",
        "        windows = np.expand_dims(mask, -1) * windows\n",
        "        windows += obj[:,:,:3]\n",
        "        X[i,row0:row1,col0:col1,:] = windows\n",
        "        \n",
        "        Y[i,0] = row0/IMG_SIZE\n",
        "        Y[i,1] = col0/IMG_SIZE\n",
        "        Y[i,2] = (row1 - row0)/IMG_SIZE\n",
        "        Y[i,3] = (col1 - col0)/IMG_SIZE\n",
        "        \n",
        "      \n",
        "      yield X / 255., Y"
      ],
      "execution_count": 4,
      "outputs": []
    },
    {
      "cell_type": "code",
      "metadata": {
        "colab": {
          "base_uri": "https://localhost:8080/"
        },
        "id": "8HnrsbKRT_wy",
        "outputId": "faa89104-0397-41a1-e2da-0f11ec48996b"
      },
      "source": [
        "model = base_model(IMG_SIZE)\n",
        "model.fit_generator(\n",
        "    train_generator(),\n",
        "    steps_per_epoch=50,\n",
        "    epochs=5\n",
        ")"
      ],
      "execution_count": 7,
      "outputs": [
        {
          "output_type": "stream",
          "text": [
            "Epoch 1/5\n",
            " 2/50 [>.............................] - ETA: 18s - loss: 0.8175WARNING:tensorflow:Callbacks method `on_train_batch_end` is slow compared to the batch time (batch time: 0.2278s vs `on_train_batch_end` time: 0.5113s). Check your callbacks.\n",
            "50/50 [==============================] - 52s 1s/step - loss: 0.5942\n",
            "Epoch 2/5\n",
            "50/50 [==============================] - 53s 1s/step - loss: 0.5516\n",
            "Epoch 3/5\n",
            "50/50 [==============================] - 53s 1s/step - loss: 0.5493\n",
            "Epoch 4/5\n",
            "50/50 [==============================] - 53s 1s/step - loss: 0.5476\n",
            "Epoch 5/5\n",
            "50/50 [==============================] - 52s 1s/step - loss: 0.5490\n"
          ],
          "name": "stdout"
        },
        {
          "output_type": "execute_result",
          "data": {
            "text/plain": [
              "<tensorflow.python.keras.callbacks.History at 0x7f1c2a6af898>"
            ]
          },
          "metadata": {
            "tags": []
          },
          "execution_count": 7
        }
      ]
    },
    {
      "cell_type": "code",
      "metadata": {
        "id": "lfbvr7XOXHJ_"
      },
      "source": [
        "def predict():\n",
        "  scale_vector = np.arange(0.125, 0.275, 0.05)\n",
        "  np.random.shuffle(scale_vector)\n",
        "  scale = scale_vector[0]\n",
        "  new_height = int(height * scale)\n",
        "  new_width = int(width * scale)\n",
        "  obj = resize(\n",
        "      img,\n",
        "      (new_height, new_width),\n",
        "      preserve_range=True).astype(np.uint8) # keep it from 0..255\n",
        "  obj = np.array(obj)\n",
        "  print(obj.shape)\n",
        "  # Generate a random image\n",
        "  x_vec = np.arange(len(back_ground))\n",
        "  np.random.shuffle(x_vec)\n",
        "  index = x_vec[0]\n",
        "  x = back_ground[index]\n",
        "  print(x.shape)\n",
        "  # x = np.zeros((IMG_SIZE, IMG_SIZE, 3))\n",
        "  row0 = np.random.randint(IMG_SIZE - new_height)\n",
        "  col0 = np.random.randint(IMG_SIZE - new_width)\n",
        "  row1 = row0 + new_height\n",
        "  col1 = col0 + new_width\n",
        "  \n",
        "  mask = (obj[:,:,3] == 0)\n",
        "  windows = x[row0:row1,col0:col1,:]\n",
        "  windows = np.expand_dims(mask, -1) * windows\n",
        "  windows += obj[:,:,:3]\n",
        "  x[row0:row1,col0:col1,:] = windows\n",
        "  print(\"true:\", row0, col0, row1, col1)\n",
        "  # Predict\n",
        "  X = np.expand_dims(x, 0) / 255.\n",
        "  p = model.predict(X)[0]\n",
        "  \n",
        "  # Draw the box\n",
        "  row0 = int(p[0]*IMG_SIZE)\n",
        "  col0 = int(p[1]*IMG_SIZE)\n",
        "  row1 = int(row0 + p[2]*IMG_SIZE)\n",
        "  col1 = int(col0 + p[3]*IMG_SIZE)\n",
        "  print(\"pred:\", row0, col0, row1, col1)\n",
        "  \n",
        "  \n",
        "  fig, ax = plt.subplots(1)\n",
        "  ax.imshow(x.astype(np.uint8))\n",
        "  rect = Rectangle(\n",
        "      (p[1]*IMG_SIZE, p[0]*IMG_SIZE),\n",
        "      p[3]*IMG_SIZE, p[2]*IMG_SIZE,linewidth=1,edgecolor='r',facecolor='none')\n",
        "  ax.add_patch(rect)\n",
        "  plt.show()"
      ],
      "execution_count": 13,
      "outputs": []
    },
    {
      "cell_type": "code",
      "metadata": {
        "colab": {
          "base_uri": "https://localhost:8080/",
          "height": 338
        },
        "id": "YJCgoh5iXbFW",
        "outputId": "87f1d33f-9184-45d1-9ac0-87a2214a1dca"
      },
      "source": [
        "predict()"
      ],
      "execution_count": 15,
      "outputs": [
        {
          "output_type": "stream",
          "text": [
            "(44, 44, 4)\n",
            "(200, 200, 3)\n",
            "true: 71 33 115 77\n",
            "pred: 72 34 116 77\n"
          ],
          "name": "stdout"
        },
        {
          "output_type": "display_data",
          "data": {
            "image/png": "[encoded data removed]",
            "text/plain": [
              "<Figure size 432x288 with 1 Axes>"
            ]
          },
          "metadata": {
            "tags": [],
            "needs_background": "light"
          }
        }
      ]
    }
  ]
}